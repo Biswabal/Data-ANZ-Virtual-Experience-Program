{
 "cells": [
  {
   "cell_type": "markdown",
   "id": "9fae30e0",
   "metadata": {},
   "source": [
    "# Load Required Libraries"
   ]
  },
  {
   "cell_type": "code",
   "execution_count": 1,
   "id": "b7354e67",
   "metadata": {},
   "outputs": [],
   "source": [
    "# import libraries\n",
    "import pandas as pd\n",
    "import numpy as np\n",
    "import matplotlib.pyplot as plt\n",
    "import seaborn as sns\n",
    "\n",
    "from sklearn.model_selection import train_test_split\n",
    "from sklearn.linear_model import LinearRegression\n",
    "from sklearn.tree import DecisionTreeRegressor\n",
    "from sklearn import metrics"
   ]
  },
  {
   "cell_type": "markdown",
   "id": "29874b49",
   "metadata": {},
   "source": [
    "# Load Dataset"
   ]
  },
  {
   "cell_type": "code",
   "execution_count": 2,
   "id": "fda7d9d7",
   "metadata": {},
   "outputs": [
    {
     "data": {
      "text/html": [
       "<div>\n",
       "<style scoped>\n",
       "    .dataframe tbody tr th:only-of-type {\n",
       "        vertical-align: middle;\n",
       "    }\n",
       "\n",
       "    .dataframe tbody tr th {\n",
       "        vertical-align: top;\n",
       "    }\n",
       "\n",
       "    .dataframe thead th {\n",
       "        text-align: right;\n",
       "    }\n",
       "</style>\n",
       "<table border=\"1\" class=\"dataframe\">\n",
       "  <thead>\n",
       "    <tr style=\"text-align: right;\">\n",
       "      <th></th>\n",
       "      <th>status</th>\n",
       "      <th>card_present_flag</th>\n",
       "      <th>txn_description</th>\n",
       "      <th>merchant_id</th>\n",
       "      <th>balance</th>\n",
       "      <th>date</th>\n",
       "      <th>gender</th>\n",
       "      <th>age</th>\n",
       "      <th>merchant_suburb</th>\n",
       "      <th>merchant_state</th>\n",
       "      <th>transaction_date_time</th>\n",
       "      <th>amount</th>\n",
       "      <th>customer_id</th>\n",
       "      <th>movement</th>\n",
       "      <th>customer_longitude</th>\n",
       "      <th>customer_latitude</th>\n",
       "      <th>merchant_longitude</th>\n",
       "      <th>merchant_latitude</th>\n",
       "    </tr>\n",
       "  </thead>\n",
       "  <tbody>\n",
       "    <tr>\n",
       "      <th>0</th>\n",
       "      <td>authorized</td>\n",
       "      <td>1</td>\n",
       "      <td>POS</td>\n",
       "      <td>81c48296-73be-44a7-befa-d053f48ce7cd</td>\n",
       "      <td>35.39</td>\n",
       "      <td>2018-08-01</td>\n",
       "      <td>F</td>\n",
       "      <td>26</td>\n",
       "      <td>Ashmore</td>\n",
       "      <td>QLD</td>\n",
       "      <td>2018-08-01 01:01:15+00:00</td>\n",
       "      <td>16.25</td>\n",
       "      <td>CUS-2487424745</td>\n",
       "      <td>debit</td>\n",
       "      <td>153.41</td>\n",
       "      <td>-27.95</td>\n",
       "      <td>153.38</td>\n",
       "      <td>-27.99</td>\n",
       "    </tr>\n",
       "    <tr>\n",
       "      <th>1</th>\n",
       "      <td>authorized</td>\n",
       "      <td>0</td>\n",
       "      <td>SALES-POS</td>\n",
       "      <td>830a451c-316e-4a6a-bf25-e37caedca49e</td>\n",
       "      <td>21.20</td>\n",
       "      <td>2018-08-01</td>\n",
       "      <td>F</td>\n",
       "      <td>26</td>\n",
       "      <td>Sydney</td>\n",
       "      <td>NSW</td>\n",
       "      <td>2018-08-01 01:13:45+00:00</td>\n",
       "      <td>14.19</td>\n",
       "      <td>CUS-2487424745</td>\n",
       "      <td>debit</td>\n",
       "      <td>153.41</td>\n",
       "      <td>-27.95</td>\n",
       "      <td>151.21</td>\n",
       "      <td>-33.87</td>\n",
       "    </tr>\n",
       "    <tr>\n",
       "      <th>2</th>\n",
       "      <td>authorized</td>\n",
       "      <td>1</td>\n",
       "      <td>POS</td>\n",
       "      <td>835c231d-8cdf-4e96-859d-e9d571760cf0</td>\n",
       "      <td>5.71</td>\n",
       "      <td>2018-08-01</td>\n",
       "      <td>M</td>\n",
       "      <td>38</td>\n",
       "      <td>Sydney</td>\n",
       "      <td>NSW</td>\n",
       "      <td>2018-08-01 01:26:15+00:00</td>\n",
       "      <td>6.42</td>\n",
       "      <td>CUS-2142601169</td>\n",
       "      <td>debit</td>\n",
       "      <td>151.23</td>\n",
       "      <td>-33.94</td>\n",
       "      <td>151.21</td>\n",
       "      <td>-33.87</td>\n",
       "    </tr>\n",
       "    <tr>\n",
       "      <th>3</th>\n",
       "      <td>authorized</td>\n",
       "      <td>1</td>\n",
       "      <td>SALES-POS</td>\n",
       "      <td>48514682-c78a-4a88-b0da-2d6302e64673</td>\n",
       "      <td>2117.22</td>\n",
       "      <td>2018-08-01</td>\n",
       "      <td>F</td>\n",
       "      <td>40</td>\n",
       "      <td>Buderim</td>\n",
       "      <td>QLD</td>\n",
       "      <td>2018-08-01 01:38:45+00:00</td>\n",
       "      <td>40.90</td>\n",
       "      <td>CUS-1614226872</td>\n",
       "      <td>debit</td>\n",
       "      <td>153.10</td>\n",
       "      <td>-27.66</td>\n",
       "      <td>153.05</td>\n",
       "      <td>-26.68</td>\n",
       "    </tr>\n",
       "    <tr>\n",
       "      <th>4</th>\n",
       "      <td>authorized</td>\n",
       "      <td>1</td>\n",
       "      <td>SALES-POS</td>\n",
       "      <td>b4e02c10-0852-4273-b8fd-7b3395e32eb0</td>\n",
       "      <td>17.95</td>\n",
       "      <td>2018-08-01</td>\n",
       "      <td>F</td>\n",
       "      <td>26</td>\n",
       "      <td>Mermaid Beach</td>\n",
       "      <td>QLD</td>\n",
       "      <td>2018-08-01 01:51:15+00:00</td>\n",
       "      <td>3.25</td>\n",
       "      <td>CUS-2487424745</td>\n",
       "      <td>debit</td>\n",
       "      <td>153.41</td>\n",
       "      <td>-27.95</td>\n",
       "      <td>153.44</td>\n",
       "      <td>-28.06</td>\n",
       "    </tr>\n",
       "  </tbody>\n",
       "</table>\n",
       "</div>"
      ],
      "text/plain": [
       "       status  card_present_flag txn_description  \\\n",
       "0  authorized                  1             POS   \n",
       "1  authorized                  0       SALES-POS   \n",
       "2  authorized                  1             POS   \n",
       "3  authorized                  1       SALES-POS   \n",
       "4  authorized                  1       SALES-POS   \n",
       "\n",
       "                            merchant_id  balance        date gender  age  \\\n",
       "0  81c48296-73be-44a7-befa-d053f48ce7cd    35.39  2018-08-01      F   26   \n",
       "1  830a451c-316e-4a6a-bf25-e37caedca49e    21.20  2018-08-01      F   26   \n",
       "2  835c231d-8cdf-4e96-859d-e9d571760cf0     5.71  2018-08-01      M   38   \n",
       "3  48514682-c78a-4a88-b0da-2d6302e64673  2117.22  2018-08-01      F   40   \n",
       "4  b4e02c10-0852-4273-b8fd-7b3395e32eb0    17.95  2018-08-01      F   26   \n",
       "\n",
       "  merchant_suburb merchant_state      transaction_date_time  amount  \\\n",
       "0         Ashmore            QLD  2018-08-01 01:01:15+00:00   16.25   \n",
       "1          Sydney            NSW  2018-08-01 01:13:45+00:00   14.19   \n",
       "2          Sydney            NSW  2018-08-01 01:26:15+00:00    6.42   \n",
       "3         Buderim            QLD  2018-08-01 01:38:45+00:00   40.90   \n",
       "4   Mermaid Beach            QLD  2018-08-01 01:51:15+00:00    3.25   \n",
       "\n",
       "      customer_id movement  customer_longitude  customer_latitude  \\\n",
       "0  CUS-2487424745    debit              153.41             -27.95   \n",
       "1  CUS-2487424745    debit              153.41             -27.95   \n",
       "2  CUS-2142601169    debit              151.23             -33.94   \n",
       "3  CUS-1614226872    debit              153.10             -27.66   \n",
       "4  CUS-2487424745    debit              153.41             -27.95   \n",
       "\n",
       "   merchant_longitude  merchant_latitude  \n",
       "0              153.38             -27.99  \n",
       "1              151.21             -33.87  \n",
       "2              151.21             -33.87  \n",
       "3              153.05             -26.68  \n",
       "4              153.44             -28.06  "
      ]
     },
     "execution_count": 2,
     "metadata": {},
     "output_type": "execute_result"
    }
   ],
   "source": [
    "# import dataset saved from task 1\n",
    "anz_data = pd.read_csv('ANZ_data_clean.csv')\n",
    "anz_data.head()"
   ]
  },
  {
   "cell_type": "markdown",
   "id": "0fa8aad8",
   "metadata": {},
   "source": [
    "# Calculate Annual Salaries"
   ]
  },
  {
   "cell_type": "code",
   "execution_count": 3,
   "id": "07ef7495",
   "metadata": {},
   "outputs": [
    {
     "data": {
      "text/html": [
       "<div>\n",
       "<style scoped>\n",
       "    .dataframe tbody tr th:only-of-type {\n",
       "        vertical-align: middle;\n",
       "    }\n",
       "\n",
       "    .dataframe tbody tr th {\n",
       "        vertical-align: top;\n",
       "    }\n",
       "\n",
       "    .dataframe thead th {\n",
       "        text-align: right;\n",
       "    }\n",
       "</style>\n",
       "<table border=\"1\" class=\"dataframe\">\n",
       "  <thead>\n",
       "    <tr style=\"text-align: right;\">\n",
       "      <th></th>\n",
       "      <th>customer_id</th>\n",
       "      <th>gender</th>\n",
       "      <th>age</th>\n",
       "      <th>amount</th>\n",
       "    </tr>\n",
       "  </thead>\n",
       "  <tbody>\n",
       "    <tr>\n",
       "      <th>0</th>\n",
       "      <td>CUS-1005756958</td>\n",
       "      <td>F</td>\n",
       "      <td>53</td>\n",
       "      <td>12616.11</td>\n",
       "    </tr>\n",
       "    <tr>\n",
       "      <th>1</th>\n",
       "      <td>CUS-1117979751</td>\n",
       "      <td>M</td>\n",
       "      <td>21</td>\n",
       "      <td>25050.55</td>\n",
       "    </tr>\n",
       "    <tr>\n",
       "      <th>2</th>\n",
       "      <td>CUS-1140341822</td>\n",
       "      <td>M</td>\n",
       "      <td>28</td>\n",
       "      <td>11499.06</td>\n",
       "    </tr>\n",
       "    <tr>\n",
       "      <th>3</th>\n",
       "      <td>CUS-1147642491</td>\n",
       "      <td>F</td>\n",
       "      <td>34</td>\n",
       "      <td>22248.07</td>\n",
       "    </tr>\n",
       "    <tr>\n",
       "      <th>4</th>\n",
       "      <td>CUS-1196156254</td>\n",
       "      <td>F</td>\n",
       "      <td>34</td>\n",
       "      <td>27326.11</td>\n",
       "    </tr>\n",
       "  </tbody>\n",
       "</table>\n",
       "</div>"
      ],
      "text/plain": [
       "      customer_id gender  age    amount\n",
       "0  CUS-1005756958      F   53  12616.11\n",
       "1  CUS-1117979751      M   21  25050.55\n",
       "2  CUS-1140341822      M   28  11499.06\n",
       "3  CUS-1147642491      F   34  22248.07\n",
       "4  CUS-1196156254      F   34  27326.11"
      ]
     },
     "execution_count": 3,
     "metadata": {},
     "output_type": "execute_result"
    }
   ],
   "source": [
    "# compute total salary received in 3 months for each customers\n",
    "salary_data = anz_data[anz_data['txn_description'] == 'PAY/SALARY'].groupby(['customer_id', 'gender', 'age']).amount.sum().reset_index()\n",
    "salary_data.head()"
   ]
  },
  {
   "cell_type": "code",
   "execution_count": 4,
   "id": "0466b523",
   "metadata": {},
   "outputs": [
    {
     "data": {
      "text/html": [
       "<div>\n",
       "<style scoped>\n",
       "    .dataframe tbody tr th:only-of-type {\n",
       "        vertical-align: middle;\n",
       "    }\n",
       "\n",
       "    .dataframe tbody tr th {\n",
       "        vertical-align: top;\n",
       "    }\n",
       "\n",
       "    .dataframe thead th {\n",
       "        text-align: right;\n",
       "    }\n",
       "</style>\n",
       "<table border=\"1\" class=\"dataframe\">\n",
       "  <thead>\n",
       "    <tr style=\"text-align: right;\">\n",
       "      <th></th>\n",
       "      <th>customer_id</th>\n",
       "      <th>gender</th>\n",
       "      <th>age</th>\n",
       "      <th>annual_salary</th>\n",
       "    </tr>\n",
       "  </thead>\n",
       "  <tbody>\n",
       "    <tr>\n",
       "      <th>0</th>\n",
       "      <td>CUS-1005756958</td>\n",
       "      <td>F</td>\n",
       "      <td>53</td>\n",
       "      <td>50464.44</td>\n",
       "    </tr>\n",
       "    <tr>\n",
       "      <th>1</th>\n",
       "      <td>CUS-1117979751</td>\n",
       "      <td>M</td>\n",
       "      <td>21</td>\n",
       "      <td>100202.20</td>\n",
       "    </tr>\n",
       "    <tr>\n",
       "      <th>2</th>\n",
       "      <td>CUS-1140341822</td>\n",
       "      <td>M</td>\n",
       "      <td>28</td>\n",
       "      <td>45996.24</td>\n",
       "    </tr>\n",
       "    <tr>\n",
       "      <th>3</th>\n",
       "      <td>CUS-1147642491</td>\n",
       "      <td>F</td>\n",
       "      <td>34</td>\n",
       "      <td>88992.28</td>\n",
       "    </tr>\n",
       "    <tr>\n",
       "      <th>4</th>\n",
       "      <td>CUS-1196156254</td>\n",
       "      <td>F</td>\n",
       "      <td>34</td>\n",
       "      <td>109304.44</td>\n",
       "    </tr>\n",
       "  </tbody>\n",
       "</table>\n",
       "</div>"
      ],
      "text/plain": [
       "      customer_id gender  age  annual_salary\n",
       "0  CUS-1005756958      F   53       50464.44\n",
       "1  CUS-1117979751      M   21      100202.20\n",
       "2  CUS-1140341822      M   28       45996.24\n",
       "3  CUS-1147642491      F   34       88992.28\n",
       "4  CUS-1196156254      F   34      109304.44"
      ]
     },
     "execution_count": 4,
     "metadata": {},
     "output_type": "execute_result"
    }
   ],
   "source": [
    "# calculating annual salary (multiply salary received in 3 months with 4)\n",
    "salary_data = salary_data.assign(amount=salary_data['amount'] * 4)\n",
    "\n",
    "salary_data = salary_data.rename(columns = {'amount' : 'annual_salary'})\n",
    "\n",
    "salary_data.head()"
   ]
  },
  {
   "cell_type": "markdown",
   "id": "1d244dbe",
   "metadata": {},
   "source": [
    "# Feature Creation"
   ]
  },
  {
   "cell_type": "markdown",
   "id": "7a705e8a",
   "metadata": {},
   "source": [
    "From the existing data let us create some additional features to 'age' and 'gender' which could help us predict the annual salary of the customer.\n",
    "\n",
    "The below are the additional features created based on the existing variables:\n",
    "* Average Purchase Amount\n",
    "* Minimum Purchase Amount\n",
    "* Maximum Purchase Amount\n",
    "* Average Number of Purchases made in a month\n",
    "* Average Balance"
   ]
  },
  {
   "cell_type": "code",
   "execution_count": 5,
   "id": "a7ca3b81",
   "metadata": {},
   "outputs": [
    {
     "data": {
      "text/html": [
       "<div>\n",
       "<style scoped>\n",
       "    .dataframe tbody tr th:only-of-type {\n",
       "        vertical-align: middle;\n",
       "    }\n",
       "\n",
       "    .dataframe tbody tr th {\n",
       "        vertical-align: top;\n",
       "    }\n",
       "\n",
       "    .dataframe thead th {\n",
       "        text-align: right;\n",
       "    }\n",
       "</style>\n",
       "<table border=\"1\" class=\"dataframe\">\n",
       "  <thead>\n",
       "    <tr style=\"text-align: right;\">\n",
       "      <th></th>\n",
       "      <th>customer_id</th>\n",
       "      <th>avg_purchase_amount</th>\n",
       "    </tr>\n",
       "  </thead>\n",
       "  <tbody>\n",
       "    <tr>\n",
       "      <th>0</th>\n",
       "      <td>CUS-1005756958</td>\n",
       "      <td>37.726250</td>\n",
       "    </tr>\n",
       "    <tr>\n",
       "      <th>1</th>\n",
       "      <td>CUS-1117979751</td>\n",
       "      <td>76.458077</td>\n",
       "    </tr>\n",
       "    <tr>\n",
       "      <th>2</th>\n",
       "      <td>CUS-1140341822</td>\n",
       "      <td>67.531385</td>\n",
       "    </tr>\n",
       "    <tr>\n",
       "      <th>3</th>\n",
       "      <td>CUS-1147642491</td>\n",
       "      <td>51.128289</td>\n",
       "    </tr>\n",
       "    <tr>\n",
       "      <th>4</th>\n",
       "      <td>CUS-1196156254</td>\n",
       "      <td>30.310491</td>\n",
       "    </tr>\n",
       "  </tbody>\n",
       "</table>\n",
       "</div>"
      ],
      "text/plain": [
       "      customer_id  avg_purchase_amount\n",
       "0  CUS-1005756958            37.726250\n",
       "1  CUS-1117979751            76.458077\n",
       "2  CUS-1140341822            67.531385\n",
       "3  CUS-1147642491            51.128289\n",
       "4  CUS-1196156254            30.310491"
      ]
     },
     "execution_count": 5,
     "metadata": {},
     "output_type": "execute_result"
    }
   ],
   "source": [
    "# calculate average purchase amount for each customer\n",
    "avg_purchase_amount = anz_data[anz_data['txn_description'].isin(['POS', 'SALES-POS'])].groupby(['customer_id']).amount.mean().reset_index()\n",
    "avg_purchase_amount = avg_purchase_amount.rename(columns = {'amount' : 'avg_purchase_amount'})\n",
    "avg_purchase_amount.head()"
   ]
  },
  {
   "cell_type": "code",
   "execution_count": 6,
   "id": "c80fa54d",
   "metadata": {},
   "outputs": [
    {
     "data": {
      "text/html": [
       "<div>\n",
       "<style scoped>\n",
       "    .dataframe tbody tr th:only-of-type {\n",
       "        vertical-align: middle;\n",
       "    }\n",
       "\n",
       "    .dataframe tbody tr th {\n",
       "        vertical-align: top;\n",
       "    }\n",
       "\n",
       "    .dataframe thead th {\n",
       "        text-align: right;\n",
       "    }\n",
       "</style>\n",
       "<table border=\"1\" class=\"dataframe\">\n",
       "  <thead>\n",
       "    <tr style=\"text-align: right;\">\n",
       "      <th></th>\n",
       "      <th>customer_id</th>\n",
       "      <th>min_purchase_amount</th>\n",
       "    </tr>\n",
       "  </thead>\n",
       "  <tbody>\n",
       "    <tr>\n",
       "      <th>0</th>\n",
       "      <td>CUS-1005756958</td>\n",
       "      <td>6.48</td>\n",
       "    </tr>\n",
       "    <tr>\n",
       "      <th>1</th>\n",
       "      <td>CUS-1117979751</td>\n",
       "      <td>5.64</td>\n",
       "    </tr>\n",
       "    <tr>\n",
       "      <th>2</th>\n",
       "      <td>CUS-1140341822</td>\n",
       "      <td>4.09</td>\n",
       "    </tr>\n",
       "    <tr>\n",
       "      <th>3</th>\n",
       "      <td>CUS-1147642491</td>\n",
       "      <td>8.78</td>\n",
       "    </tr>\n",
       "    <tr>\n",
       "      <th>4</th>\n",
       "      <td>CUS-1196156254</td>\n",
       "      <td>3.66</td>\n",
       "    </tr>\n",
       "  </tbody>\n",
       "</table>\n",
       "</div>"
      ],
      "text/plain": [
       "      customer_id  min_purchase_amount\n",
       "0  CUS-1005756958                 6.48\n",
       "1  CUS-1117979751                 5.64\n",
       "2  CUS-1140341822                 4.09\n",
       "3  CUS-1147642491                 8.78\n",
       "4  CUS-1196156254                 3.66"
      ]
     },
     "execution_count": 6,
     "metadata": {},
     "output_type": "execute_result"
    }
   ],
   "source": [
    "# calculate minimum purchase amount for each customer\n",
    "min_purchase_amount = anz_data[anz_data['txn_description'].isin(['POS', 'SALES-POS'])].groupby(['customer_id']).amount.min().reset_index()\n",
    "min_purchase_amount = min_purchase_amount.rename(columns = {'amount' : 'min_purchase_amount'})\n",
    "min_purchase_amount.head()"
   ]
  },
  {
   "cell_type": "code",
   "execution_count": 7,
   "id": "9cb41a70",
   "metadata": {},
   "outputs": [
    {
     "data": {
      "text/html": [
       "<div>\n",
       "<style scoped>\n",
       "    .dataframe tbody tr th:only-of-type {\n",
       "        vertical-align: middle;\n",
       "    }\n",
       "\n",
       "    .dataframe tbody tr th {\n",
       "        vertical-align: top;\n",
       "    }\n",
       "\n",
       "    .dataframe thead th {\n",
       "        text-align: right;\n",
       "    }\n",
       "</style>\n",
       "<table border=\"1\" class=\"dataframe\">\n",
       "  <thead>\n",
       "    <tr style=\"text-align: right;\">\n",
       "      <th></th>\n",
       "      <th>customer_id</th>\n",
       "      <th>max_purchase_amount</th>\n",
       "    </tr>\n",
       "  </thead>\n",
       "  <tbody>\n",
       "    <tr>\n",
       "      <th>0</th>\n",
       "      <td>CUS-1005756958</td>\n",
       "      <td>226.82</td>\n",
       "    </tr>\n",
       "    <tr>\n",
       "      <th>1</th>\n",
       "      <td>CUS-1117979751</td>\n",
       "      <td>2885.85</td>\n",
       "    </tr>\n",
       "    <tr>\n",
       "      <th>2</th>\n",
       "      <td>CUS-1140341822</td>\n",
       "      <td>1271.46</td>\n",
       "    </tr>\n",
       "    <tr>\n",
       "      <th>3</th>\n",
       "      <td>CUS-1147642491</td>\n",
       "      <td>432.92</td>\n",
       "    </tr>\n",
       "    <tr>\n",
       "      <th>4</th>\n",
       "      <td>CUS-1196156254</td>\n",
       "      <td>390.67</td>\n",
       "    </tr>\n",
       "  </tbody>\n",
       "</table>\n",
       "</div>"
      ],
      "text/plain": [
       "      customer_id  max_purchase_amount\n",
       "0  CUS-1005756958               226.82\n",
       "1  CUS-1117979751              2885.85\n",
       "2  CUS-1140341822              1271.46\n",
       "3  CUS-1147642491               432.92\n",
       "4  CUS-1196156254               390.67"
      ]
     },
     "execution_count": 7,
     "metadata": {},
     "output_type": "execute_result"
    }
   ],
   "source": [
    "# calculate maximum purchase amount for each customer\n",
    "max_purchase_amount = anz_data[anz_data['txn_description'].isin(['POS', 'SALES-POS'])].groupby(['customer_id']).amount.max().reset_index()\n",
    "max_purchase_amount = max_purchase_amount.rename(columns = {'amount' : 'max_purchase_amount'})\n",
    "max_purchase_amount.head()"
   ]
  },
  {
   "cell_type": "code",
   "execution_count": 8,
   "id": "96cc69e7",
   "metadata": {},
   "outputs": [
    {
     "data": {
      "text/html": [
       "<div>\n",
       "<style scoped>\n",
       "    .dataframe tbody tr th:only-of-type {\n",
       "        vertical-align: middle;\n",
       "    }\n",
       "\n",
       "    .dataframe tbody tr th {\n",
       "        vertical-align: top;\n",
       "    }\n",
       "\n",
       "    .dataframe thead th {\n",
       "        text-align: right;\n",
       "    }\n",
       "</style>\n",
       "<table border=\"1\" class=\"dataframe\">\n",
       "  <thead>\n",
       "    <tr style=\"text-align: right;\">\n",
       "      <th></th>\n",
       "      <th>customer_id</th>\n",
       "      <th>avg_monthly_purchases</th>\n",
       "    </tr>\n",
       "  </thead>\n",
       "  <tbody>\n",
       "    <tr>\n",
       "      <th>0</th>\n",
       "      <td>CUS-1005756958</td>\n",
       "      <td>16</td>\n",
       "    </tr>\n",
       "    <tr>\n",
       "      <th>1</th>\n",
       "      <td>CUS-1117979751</td>\n",
       "      <td>17</td>\n",
       "    </tr>\n",
       "    <tr>\n",
       "      <th>2</th>\n",
       "      <td>CUS-1140341822</td>\n",
       "      <td>21</td>\n",
       "    </tr>\n",
       "    <tr>\n",
       "      <th>3</th>\n",
       "      <td>CUS-1147642491</td>\n",
       "      <td>25</td>\n",
       "    </tr>\n",
       "    <tr>\n",
       "      <th>4</th>\n",
       "      <td>CUS-1196156254</td>\n",
       "      <td>54</td>\n",
       "    </tr>\n",
       "  </tbody>\n",
       "</table>\n",
       "</div>"
      ],
      "text/plain": [
       "      customer_id  avg_monthly_purchases\n",
       "0  CUS-1005756958                     16\n",
       "1  CUS-1117979751                     17\n",
       "2  CUS-1140341822                     21\n",
       "3  CUS-1147642491                     25\n",
       "4  CUS-1196156254                     54"
      ]
     },
     "execution_count": 8,
     "metadata": {},
     "output_type": "execute_result"
    }
   ],
   "source": [
    "# calculate average number of purchases made by customer each month\n",
    "num_of_purchases = anz_data[anz_data['txn_description'].isin(['POS', 'SALES-POS'])].groupby(['customer_id']).amount.count().reset_index()\n",
    "num_of_purchases = num_of_purchases.assign(amount= num_of_purchases['amount'] / 3)\n",
    "num_of_purchases['amount'] = num_of_purchases['amount'].astype(int)\n",
    "num_of_purchases = num_of_purchases.rename(columns = {'amount' : 'avg_monthly_purchases'})\n",
    "num_of_purchases.head()"
   ]
  },
  {
   "cell_type": "code",
   "execution_count": 9,
   "id": "3b6a6787",
   "metadata": {},
   "outputs": [
    {
     "data": {
      "text/html": [
       "<div>\n",
       "<style scoped>\n",
       "    .dataframe tbody tr th:only-of-type {\n",
       "        vertical-align: middle;\n",
       "    }\n",
       "\n",
       "    .dataframe tbody tr th {\n",
       "        vertical-align: top;\n",
       "    }\n",
       "\n",
       "    .dataframe thead th {\n",
       "        text-align: right;\n",
       "    }\n",
       "</style>\n",
       "<table border=\"1\" class=\"dataframe\">\n",
       "  <thead>\n",
       "    <tr style=\"text-align: right;\">\n",
       "      <th></th>\n",
       "      <th>customer_id</th>\n",
       "      <th>avg_balance</th>\n",
       "    </tr>\n",
       "  </thead>\n",
       "  <tbody>\n",
       "    <tr>\n",
       "      <th>0</th>\n",
       "      <td>CUS-1005756958</td>\n",
       "      <td>2275.852055</td>\n",
       "    </tr>\n",
       "    <tr>\n",
       "      <th>1</th>\n",
       "      <td>CUS-1117979751</td>\n",
       "      <td>9829.929000</td>\n",
       "    </tr>\n",
       "    <tr>\n",
       "      <th>2</th>\n",
       "      <td>CUS-1140341822</td>\n",
       "      <td>5699.212250</td>\n",
       "    </tr>\n",
       "    <tr>\n",
       "      <th>3</th>\n",
       "      <td>CUS-1147642491</td>\n",
       "      <td>9032.841186</td>\n",
       "    </tr>\n",
       "    <tr>\n",
       "      <th>4</th>\n",
       "      <td>CUS-1196156254</td>\n",
       "      <td>22272.433755</td>\n",
       "    </tr>\n",
       "  </tbody>\n",
       "</table>\n",
       "</div>"
      ],
      "text/plain": [
       "      customer_id   avg_balance\n",
       "0  CUS-1005756958   2275.852055\n",
       "1  CUS-1117979751   9829.929000\n",
       "2  CUS-1140341822   5699.212250\n",
       "3  CUS-1147642491   9032.841186\n",
       "4  CUS-1196156254  22272.433755"
      ]
     },
     "execution_count": 9,
     "metadata": {},
     "output_type": "execute_result"
    }
   ],
   "source": [
    "# calculate average balance for each customer\n",
    "avg_balance = anz_data.groupby(['customer_id']).balance.mean().reset_index()\n",
    "avg_balance = avg_balance.rename(columns = {'balance' : 'avg_balance'})\n",
    "avg_balance.head()"
   ]
  },
  {
   "cell_type": "markdown",
   "id": "273cc710",
   "metadata": {},
   "source": [
    "# Combine all features into one dataset"
   ]
  },
  {
   "cell_type": "code",
   "execution_count": 10,
   "id": "afc0f78b",
   "metadata": {},
   "outputs": [
    {
     "data": {
      "text/html": [
       "<div>\n",
       "<style scoped>\n",
       "    .dataframe tbody tr th:only-of-type {\n",
       "        vertical-align: middle;\n",
       "    }\n",
       "\n",
       "    .dataframe tbody tr th {\n",
       "        vertical-align: top;\n",
       "    }\n",
       "\n",
       "    .dataframe thead th {\n",
       "        text-align: right;\n",
       "    }\n",
       "</style>\n",
       "<table border=\"1\" class=\"dataframe\">\n",
       "  <thead>\n",
       "    <tr style=\"text-align: right;\">\n",
       "      <th></th>\n",
       "      <th>customer_id</th>\n",
       "      <th>gender</th>\n",
       "      <th>age</th>\n",
       "      <th>annual_salary</th>\n",
       "      <th>avg_purchase_amount</th>\n",
       "      <th>min_purchase_amount</th>\n",
       "      <th>max_purchase_amount</th>\n",
       "      <th>avg_monthly_purchases</th>\n",
       "      <th>avg_balance</th>\n",
       "    </tr>\n",
       "  </thead>\n",
       "  <tbody>\n",
       "    <tr>\n",
       "      <th>0</th>\n",
       "      <td>CUS-1005756958</td>\n",
       "      <td>F</td>\n",
       "      <td>53</td>\n",
       "      <td>50464.44</td>\n",
       "      <td>37.726250</td>\n",
       "      <td>6.48</td>\n",
       "      <td>226.82</td>\n",
       "      <td>16</td>\n",
       "      <td>2275.852055</td>\n",
       "    </tr>\n",
       "    <tr>\n",
       "      <th>1</th>\n",
       "      <td>CUS-1117979751</td>\n",
       "      <td>M</td>\n",
       "      <td>21</td>\n",
       "      <td>100202.20</td>\n",
       "      <td>76.458077</td>\n",
       "      <td>5.64</td>\n",
       "      <td>2885.85</td>\n",
       "      <td>17</td>\n",
       "      <td>9829.929000</td>\n",
       "    </tr>\n",
       "    <tr>\n",
       "      <th>2</th>\n",
       "      <td>CUS-1140341822</td>\n",
       "      <td>M</td>\n",
       "      <td>28</td>\n",
       "      <td>45996.24</td>\n",
       "      <td>67.531385</td>\n",
       "      <td>4.09</td>\n",
       "      <td>1271.46</td>\n",
       "      <td>21</td>\n",
       "      <td>5699.212250</td>\n",
       "    </tr>\n",
       "    <tr>\n",
       "      <th>3</th>\n",
       "      <td>CUS-1147642491</td>\n",
       "      <td>F</td>\n",
       "      <td>34</td>\n",
       "      <td>88992.28</td>\n",
       "      <td>51.128289</td>\n",
       "      <td>8.78</td>\n",
       "      <td>432.92</td>\n",
       "      <td>25</td>\n",
       "      <td>9032.841186</td>\n",
       "    </tr>\n",
       "    <tr>\n",
       "      <th>4</th>\n",
       "      <td>CUS-1196156254</td>\n",
       "      <td>F</td>\n",
       "      <td>34</td>\n",
       "      <td>109304.44</td>\n",
       "      <td>30.310491</td>\n",
       "      <td>3.66</td>\n",
       "      <td>390.67</td>\n",
       "      <td>54</td>\n",
       "      <td>22272.433755</td>\n",
       "    </tr>\n",
       "  </tbody>\n",
       "</table>\n",
       "</div>"
      ],
      "text/plain": [
       "      customer_id gender  age  annual_salary  avg_purchase_amount  \\\n",
       "0  CUS-1005756958      F   53       50464.44            37.726250   \n",
       "1  CUS-1117979751      M   21      100202.20            76.458077   \n",
       "2  CUS-1140341822      M   28       45996.24            67.531385   \n",
       "3  CUS-1147642491      F   34       88992.28            51.128289   \n",
       "4  CUS-1196156254      F   34      109304.44            30.310491   \n",
       "\n",
       "   min_purchase_amount  max_purchase_amount  avg_monthly_purchases  \\\n",
       "0                 6.48               226.82                     16   \n",
       "1                 5.64              2885.85                     17   \n",
       "2                 4.09              1271.46                     21   \n",
       "3                 8.78               432.92                     25   \n",
       "4                 3.66               390.67                     54   \n",
       "\n",
       "    avg_balance  \n",
       "0   2275.852055  \n",
       "1   9829.929000  \n",
       "2   5699.212250  \n",
       "3   9032.841186  \n",
       "4  22272.433755  "
      ]
     },
     "execution_count": 10,
     "metadata": {},
     "output_type": "execute_result"
    }
   ],
   "source": [
    "# merging salary_data and other dataframes created during Feature Creation\n",
    "final_data = pd.merge(salary_data, avg_purchase_amount, on='customer_id', how='inner')\n",
    "final_data = pd.merge(final_data, min_purchase_amount, on='customer_id', how='inner')\n",
    "final_data = pd.merge(final_data, max_purchase_amount, on='customer_id', how='inner')\n",
    "final_data = pd.merge(final_data, num_of_purchases, on='customer_id', how='inner')\n",
    "final_data = pd.merge(final_data, avg_balance, on='customer_id', how='inner')\n",
    "final_data.head()"
   ]
  },
  {
   "cell_type": "markdown",
   "id": "feacc7b0",
   "metadata": {},
   "source": [
    "# Explore Correlations"
   ]
  },
  {
   "cell_type": "code",
   "execution_count": 11,
   "id": "15024911",
   "metadata": {},
   "outputs": [],
   "source": [
    "# returns correlation between only relevant variables, i.e annual salary vs any other features\n",
    "def correlation(df):\n",
    "    correlation = df.corr()\n",
    "    correlation.drop(columns = ['annual_salary'], inplace = True)\n",
    "    correlation.drop(['age', 'avg_purchase_amount', 'min_purchase_amount', 'max_purchase_amount', 'avg_monthly_purchases', 'avg_balance'], inplace = True)\n",
    "    return correlation    "
   ]
  },
  {
   "cell_type": "code",
   "execution_count": 12,
   "id": "a22a2edd",
   "metadata": {},
   "outputs": [
    {
     "data": {
      "text/html": [
       "<div>\n",
       "<style scoped>\n",
       "    .dataframe tbody tr th:only-of-type {\n",
       "        vertical-align: middle;\n",
       "    }\n",
       "\n",
       "    .dataframe tbody tr th {\n",
       "        vertical-align: top;\n",
       "    }\n",
       "\n",
       "    .dataframe thead th {\n",
       "        text-align: right;\n",
       "    }\n",
       "</style>\n",
       "<table border=\"1\" class=\"dataframe\">\n",
       "  <thead>\n",
       "    <tr style=\"text-align: right;\">\n",
       "      <th></th>\n",
       "      <th>age</th>\n",
       "      <th>avg_purchase_amount</th>\n",
       "      <th>min_purchase_amount</th>\n",
       "      <th>max_purchase_amount</th>\n",
       "      <th>avg_monthly_purchases</th>\n",
       "      <th>avg_balance</th>\n",
       "    </tr>\n",
       "  </thead>\n",
       "  <tbody>\n",
       "    <tr>\n",
       "      <th>annual_salary</th>\n",
       "      <td>-0.036504</td>\n",
       "      <td>-0.000346</td>\n",
       "      <td>-0.033626</td>\n",
       "      <td>0.011574</td>\n",
       "      <td>-0.058413</td>\n",
       "      <td>0.186986</td>\n",
       "    </tr>\n",
       "  </tbody>\n",
       "</table>\n",
       "</div>"
      ],
      "text/plain": [
       "                    age  avg_purchase_amount  min_purchase_amount  \\\n",
       "annual_salary -0.036504            -0.000346            -0.033626   \n",
       "\n",
       "               max_purchase_amount  avg_monthly_purchases  avg_balance  \n",
       "annual_salary             0.011574              -0.058413     0.186986  "
      ]
     },
     "execution_count": 12,
     "metadata": {},
     "output_type": "execute_result"
    }
   ],
   "source": [
    "# display correlation between annual salary and other features for all customers\n",
    "correlation(final_data)"
   ]
  },
  {
   "cell_type": "code",
   "execution_count": 13,
   "id": "1240b13e",
   "metadata": {},
   "outputs": [
    {
     "data": {
      "text/html": [
       "<div>\n",
       "<style scoped>\n",
       "    .dataframe tbody tr th:only-of-type {\n",
       "        vertical-align: middle;\n",
       "    }\n",
       "\n",
       "    .dataframe tbody tr th {\n",
       "        vertical-align: top;\n",
       "    }\n",
       "\n",
       "    .dataframe thead th {\n",
       "        text-align: right;\n",
       "    }\n",
       "</style>\n",
       "<table border=\"1\" class=\"dataframe\">\n",
       "  <thead>\n",
       "    <tr style=\"text-align: right;\">\n",
       "      <th></th>\n",
       "      <th>age</th>\n",
       "      <th>avg_purchase_amount</th>\n",
       "      <th>min_purchase_amount</th>\n",
       "      <th>max_purchase_amount</th>\n",
       "      <th>avg_monthly_purchases</th>\n",
       "      <th>avg_balance</th>\n",
       "    </tr>\n",
       "  </thead>\n",
       "  <tbody>\n",
       "    <tr>\n",
       "      <th>annual_salary</th>\n",
       "      <td>0.007593</td>\n",
       "      <td>0.057464</td>\n",
       "      <td>-0.053716</td>\n",
       "      <td>0.104556</td>\n",
       "      <td>-0.176983</td>\n",
       "      <td>0.077251</td>\n",
       "    </tr>\n",
       "  </tbody>\n",
       "</table>\n",
       "</div>"
      ],
      "text/plain": [
       "                    age  avg_purchase_amount  min_purchase_amount  \\\n",
       "annual_salary  0.007593             0.057464            -0.053716   \n",
       "\n",
       "               max_purchase_amount  avg_monthly_purchases  avg_balance  \n",
       "annual_salary             0.104556              -0.176983     0.077251  "
      ]
     },
     "execution_count": 13,
     "metadata": {},
     "output_type": "execute_result"
    }
   ],
   "source": [
    "# display correlation between annual salary and other features for all male customers\n",
    "correlation(final_data[final_data['gender'] == 'M'])"
   ]
  },
  {
   "cell_type": "code",
   "execution_count": 14,
   "id": "2e106236",
   "metadata": {},
   "outputs": [
    {
     "data": {
      "text/html": [
       "<div>\n",
       "<style scoped>\n",
       "    .dataframe tbody tr th:only-of-type {\n",
       "        vertical-align: middle;\n",
       "    }\n",
       "\n",
       "    .dataframe tbody tr th {\n",
       "        vertical-align: top;\n",
       "    }\n",
       "\n",
       "    .dataframe thead th {\n",
       "        text-align: right;\n",
       "    }\n",
       "</style>\n",
       "<table border=\"1\" class=\"dataframe\">\n",
       "  <thead>\n",
       "    <tr style=\"text-align: right;\">\n",
       "      <th></th>\n",
       "      <th>age</th>\n",
       "      <th>avg_purchase_amount</th>\n",
       "      <th>min_purchase_amount</th>\n",
       "      <th>max_purchase_amount</th>\n",
       "      <th>avg_monthly_purchases</th>\n",
       "      <th>avg_balance</th>\n",
       "    </tr>\n",
       "  </thead>\n",
       "  <tbody>\n",
       "    <tr>\n",
       "      <th>annual_salary</th>\n",
       "      <td>-0.107625</td>\n",
       "      <td>-0.15415</td>\n",
       "      <td>-0.041724</td>\n",
       "      <td>-0.08268</td>\n",
       "      <td>0.061253</td>\n",
       "      <td>0.360151</td>\n",
       "    </tr>\n",
       "  </tbody>\n",
       "</table>\n",
       "</div>"
      ],
      "text/plain": [
       "                    age  avg_purchase_amount  min_purchase_amount  \\\n",
       "annual_salary -0.107625             -0.15415            -0.041724   \n",
       "\n",
       "               max_purchase_amount  avg_monthly_purchases  avg_balance  \n",
       "annual_salary             -0.08268               0.061253     0.360151  "
      ]
     },
     "execution_count": 14,
     "metadata": {},
     "output_type": "execute_result"
    }
   ],
   "source": [
    "# display correlation between annual salary and other features for all female customers\n",
    "correlation(final_data[final_data['gender'] == 'F'])"
   ]
  },
  {
   "cell_type": "markdown",
   "id": "2e3cbe82",
   "metadata": {},
   "source": [
    "annual salary shares very weak correlation with other attributes of the customer. The highest correlation among all is 0.187, i.e. between annual salary and customer's average balance. Although correlation is weak but it still suggests few interesting things:\n",
    "* Male customer's salary tends to increase with age unlike female customers.\n",
    "* Female tends spend less and save more as their salary increases unlike male customers"
   ]
  },
  {
   "cell_type": "code",
   "execution_count": 15,
   "id": "98ea5dd6",
   "metadata": {},
   "outputs": [
    {
     "data": {
      "image/png": "[encoded data removed]",
      "text/plain": [
       "<Figure size 432x288 with 1 Axes>"
      ]
     },
     "metadata": {
      "needs_background": "light"
     },
     "output_type": "display_data"
    }
   ],
   "source": [
    "# explore correlation between age and annual salary\n",
    "sns.scatterplot(data=final_data, x=\"age\", y=\"annual_salary\", hue=\"gender\")\n",
    "plt.show()"
   ]
  },
  {
   "cell_type": "code",
   "execution_count": 16,
   "id": "c7a42728",
   "metadata": {},
   "outputs": [
    {
     "data": {
      "image/png": "[encoded data removed]",
      "text/plain": [
       "<Figure size 432x288 with 1 Axes>"
      ]
     },
     "metadata": {
      "needs_background": "light"
     },
     "output_type": "display_data"
    }
   ],
   "source": [
    "# explore correlation between average purchase amount and annual salary\n",
    "sns.scatterplot(data=final_data, x=\"avg_purchase_amount\", y=\"annual_salary\", hue=\"gender\")\n",
    "plt.show()"
   ]
  },
  {
   "cell_type": "code",
   "execution_count": 17,
   "id": "d3639b25",
   "metadata": {},
   "outputs": [
    {
     "data": {
      "image/png": "[encoded data removed]",
      "text/plain": [
       "<Figure size 432x288 with 1 Axes>"
      ]
     },
     "metadata": {
      "needs_background": "light"
     },
     "output_type": "display_data"
    }
   ],
   "source": [
    "# explore correlation between average balance and annual salary\n",
    "sns.scatterplot(data=final_data, x=\"avg_balance\", y=\"annual_salary\", hue=\"gender\")\n",
    "plt.show()"
   ]
  },
  {
   "cell_type": "markdown",
   "id": "f7d75bc7",
   "metadata": {},
   "source": [
    "# Final Preprocessing"
   ]
  },
  {
   "cell_type": "code",
   "execution_count": 18,
   "id": "578732e4",
   "metadata": {},
   "outputs": [],
   "source": [
    "# remove customer_id\n",
    "final_data = final_data.drop(columns = ['customer_id'])"
   ]
  },
  {
   "cell_type": "code",
   "execution_count": 19,
   "id": "cc9346f0",
   "metadata": {},
   "outputs": [
    {
     "data": {
      "text/plain": [
       "array(['F', 'M'], dtype=object)"
      ]
     },
     "execution_count": 19,
     "metadata": {},
     "output_type": "execute_result"
    }
   ],
   "source": [
    "final_data['gender'].unique()"
   ]
  },
  {
   "cell_type": "markdown",
   "id": "d71a4fa1",
   "metadata": {},
   "source": [
    "'gender' is a categorical feature, which needs to be converted numeric before fitting the model. Techniques such as 'one-hot-encoding could be used in order to do so, but for the puprose of this lets encode 'F' as 0 and 'M' as 1."
   ]
  },
  {
   "cell_type": "code",
   "execution_count": 20,
   "id": "544d4f57",
   "metadata": {},
   "outputs": [
    {
     "data": {
      "text/html": [
       "<div>\n",
       "<style scoped>\n",
       "    .dataframe tbody tr th:only-of-type {\n",
       "        vertical-align: middle;\n",
       "    }\n",
       "\n",
       "    .dataframe tbody tr th {\n",
       "        vertical-align: top;\n",
       "    }\n",
       "\n",
       "    .dataframe thead th {\n",
       "        text-align: right;\n",
       "    }\n",
       "</style>\n",
       "<table border=\"1\" class=\"dataframe\">\n",
       "  <thead>\n",
       "    <tr style=\"text-align: right;\">\n",
       "      <th></th>\n",
       "      <th>gender</th>\n",
       "      <th>age</th>\n",
       "      <th>annual_salary</th>\n",
       "      <th>avg_purchase_amount</th>\n",
       "      <th>min_purchase_amount</th>\n",
       "      <th>max_purchase_amount</th>\n",
       "      <th>avg_monthly_purchases</th>\n",
       "      <th>avg_balance</th>\n",
       "    </tr>\n",
       "  </thead>\n",
       "  <tbody>\n",
       "    <tr>\n",
       "      <th>0</th>\n",
       "      <td>0</td>\n",
       "      <td>53</td>\n",
       "      <td>50464.44</td>\n",
       "      <td>37.726250</td>\n",
       "      <td>6.48</td>\n",
       "      <td>226.82</td>\n",
       "      <td>16</td>\n",
       "      <td>2275.852055</td>\n",
       "    </tr>\n",
       "    <tr>\n",
       "      <th>1</th>\n",
       "      <td>1</td>\n",
       "      <td>21</td>\n",
       "      <td>100202.20</td>\n",
       "      <td>76.458077</td>\n",
       "      <td>5.64</td>\n",
       "      <td>2885.85</td>\n",
       "      <td>17</td>\n",
       "      <td>9829.929000</td>\n",
       "    </tr>\n",
       "    <tr>\n",
       "      <th>2</th>\n",
       "      <td>1</td>\n",
       "      <td>28</td>\n",
       "      <td>45996.24</td>\n",
       "      <td>67.531385</td>\n",
       "      <td>4.09</td>\n",
       "      <td>1271.46</td>\n",
       "      <td>21</td>\n",
       "      <td>5699.212250</td>\n",
       "    </tr>\n",
       "    <tr>\n",
       "      <th>3</th>\n",
       "      <td>0</td>\n",
       "      <td>34</td>\n",
       "      <td>88992.28</td>\n",
       "      <td>51.128289</td>\n",
       "      <td>8.78</td>\n",
       "      <td>432.92</td>\n",
       "      <td>25</td>\n",
       "      <td>9032.841186</td>\n",
       "    </tr>\n",
       "    <tr>\n",
       "      <th>4</th>\n",
       "      <td>0</td>\n",
       "      <td>34</td>\n",
       "      <td>109304.44</td>\n",
       "      <td>30.310491</td>\n",
       "      <td>3.66</td>\n",
       "      <td>390.67</td>\n",
       "      <td>54</td>\n",
       "      <td>22272.433755</td>\n",
       "    </tr>\n",
       "  </tbody>\n",
       "</table>\n",
       "</div>"
      ],
      "text/plain": [
       "   gender  age  annual_salary  avg_purchase_amount  min_purchase_amount  \\\n",
       "0       0   53       50464.44            37.726250                 6.48   \n",
       "1       1   21      100202.20            76.458077                 5.64   \n",
       "2       1   28       45996.24            67.531385                 4.09   \n",
       "3       0   34       88992.28            51.128289                 8.78   \n",
       "4       0   34      109304.44            30.310491                 3.66   \n",
       "\n",
       "   max_purchase_amount  avg_monthly_purchases   avg_balance  \n",
       "0               226.82                     16   2275.852055  \n",
       "1              2885.85                     17   9829.929000  \n",
       "2              1271.46                     21   5699.212250  \n",
       "3               432.92                     25   9032.841186  \n",
       "4               390.67                     54  22272.433755  "
      ]
     },
     "execution_count": 20,
     "metadata": {},
     "output_type": "execute_result"
    }
   ],
   "source": [
    "# encode 'M' as 1 and 'F' as 0\n",
    "final_data['gender'] = final_data['gender'].replace({'F': 0, 'M': 1})\n",
    "final_data.head()"
   ]
  },
  {
   "cell_type": "code",
   "execution_count": 21,
   "id": "842d76c3",
   "metadata": {},
   "outputs": [
    {
     "data": {
      "text/plain": [
       "gender                     int64\n",
       "age                        int64\n",
       "annual_salary            float64\n",
       "avg_purchase_amount      float64\n",
       "min_purchase_amount      float64\n",
       "max_purchase_amount      float64\n",
       "avg_monthly_purchases      int32\n",
       "avg_balance              float64\n",
       "dtype: object"
      ]
     },
     "execution_count": 21,
     "metadata": {},
     "output_type": "execute_result"
    }
   ],
   "source": [
    "# verify data types of all variables\n",
    "final_data.dtypes"
   ]
  },
  {
   "cell_type": "code",
   "execution_count": 22,
   "id": "939dddbd",
   "metadata": {},
   "outputs": [
    {
     "data": {
      "text/plain": [
       "gender                   0\n",
       "age                      0\n",
       "annual_salary            0\n",
       "avg_purchase_amount      0\n",
       "min_purchase_amount      0\n",
       "max_purchase_amount      0\n",
       "avg_monthly_purchases    0\n",
       "avg_balance              0\n",
       "dtype: int64"
      ]
     },
     "execution_count": 22,
     "metadata": {},
     "output_type": "execute_result"
    }
   ],
   "source": [
    "# make sure there are no missing values\n",
    "final_data.isnull().sum()"
   ]
  },
  {
   "cell_type": "markdown",
   "id": "e28dea28",
   "metadata": {},
   "source": [
    "# Train-Test split"
   ]
  },
  {
   "cell_type": "code",
   "execution_count": 23,
   "id": "cd188479",
   "metadata": {},
   "outputs": [],
   "source": [
    "X = final_data.drop(columns = ['annual_salary'])\n",
    "y = final_data['annual_salary']"
   ]
  },
  {
   "cell_type": "code",
   "execution_count": 24,
   "id": "cf9fc45f",
   "metadata": {},
   "outputs": [],
   "source": [
    "X_train, X_test, y_train, y_test = train_test_split(X , y, test_size = 0.25, random_state = 3)"
   ]
  },
  {
   "cell_type": "markdown",
   "id": "c09592de",
   "metadata": {},
   "source": [
    "# Fitting Linear Regression"
   ]
  },
  {
   "cell_type": "code",
   "execution_count": 25,
   "id": "c5798e41",
   "metadata": {},
   "outputs": [
    {
     "data": {
      "text/plain": [
       "LinearRegression()"
      ]
     },
     "execution_count": 25,
     "metadata": {},
     "output_type": "execute_result"
    }
   ],
   "source": [
    "model1 = LinearRegression()\n",
    "model1.fit(X_train, y_train)"
   ]
  },
  {
   "cell_type": "code",
   "execution_count": 26,
   "id": "2c029e33",
   "metadata": {},
   "outputs": [],
   "source": [
    "model1_pred = model1.predict(X_test)"
   ]
  },
  {
   "cell_type": "code",
   "execution_count": 27,
   "id": "2d6fcfa4",
   "metadata": {},
   "outputs": [
    {
     "data": {
      "text/plain": [
       "20991.79353794082"
      ]
     },
     "execution_count": 27,
     "metadata": {},
     "output_type": "execute_result"
    }
   ],
   "source": [
    "metrics.mean_absolute_error(y_test, model1_pred)"
   ]
  },
  {
   "cell_type": "code",
   "execution_count": 28,
   "id": "70fd1ae0",
   "metadata": {},
   "outputs": [
    {
     "data": {
      "text/plain": [
       "25360.345616140752"
      ]
     },
     "execution_count": 28,
     "metadata": {},
     "output_type": "execute_result"
    }
   ],
   "source": [
    "np.sqrt(metrics.mean_squared_error(y_test, model1_pred))"
   ]
  },
  {
   "cell_type": "markdown",
   "id": "1a33938b",
   "metadata": {},
   "source": [
    "# Fitting Decision Tree"
   ]
  },
  {
   "cell_type": "code",
   "execution_count": 29,
   "id": "4b9c761e",
   "metadata": {},
   "outputs": [
    {
     "data": {
      "text/plain": [
       "DecisionTreeRegressor()"
      ]
     },
     "execution_count": 29,
     "metadata": {},
     "output_type": "execute_result"
    }
   ],
   "source": [
    "model2 = DecisionTreeRegressor()\n",
    "model2.fit(X_train, y_train)"
   ]
  },
  {
   "cell_type": "code",
   "execution_count": 30,
   "id": "667bdf78",
   "metadata": {},
   "outputs": [],
   "source": [
    "model2_pred = model2.predict(X_test)"
   ]
  },
  {
   "cell_type": "code",
   "execution_count": 31,
   "id": "5f45fe91",
   "metadata": {},
   "outputs": [
    {
     "data": {
      "text/plain": [
       "18582.264000000003"
      ]
     },
     "execution_count": 31,
     "metadata": {},
     "output_type": "execute_result"
    }
   ],
   "source": [
    "metrics.mean_absolute_error(y_test, model2_pred)"
   ]
  },
  {
   "cell_type": "code",
   "execution_count": 32,
   "id": "52308f05",
   "metadata": {},
   "outputs": [
    {
     "data": {
      "text/plain": [
       "24173.840775448494"
      ]
     },
     "execution_count": 32,
     "metadata": {},
     "output_type": "execute_result"
    }
   ],
   "source": [
    "np.sqrt(metrics.mean_squared_error(y_test, model2_pred))"
   ]
  },
  {
   "cell_type": "markdown",
   "id": "17100fa3",
   "metadata": {},
   "source": [
    "# Summary"
   ]
  },
  {
   "cell_type": "markdown",
   "id": "11090e5a",
   "metadata": {},
   "source": [
    "| **Model** | **MAE** | **RMSE**\n",
    "|:----:|:----:|:----:|\n",
    "| **model1 (Linear Regression Model)** | 20991.79 | 25360.34\n",
    "| **model2 (Decision Tree Regressor)** | 18582.26 | 24173.84"
   ]
  },
  {
   "cell_type": "markdown",
   "id": "a260e1ec",
   "metadata": {},
   "source": [
    "Although Decision Tree performed better than Linear Regression, the MAE and RMSE for both the models are very high. It suggests that both the models are highly inaccurate and cannot be used by ANZ to segment customers into income brackets for reporting purpose. On hypertuning parameters the models could have performed slightly better but we cannot rely on it because the data we have is only for 100 customers. So, inorder to build more reliable models we need to come up with advance feature engineering and feature selection methods and more data to train and test the model.\n",
    "\n",
    "If the goal is to segment customers, why not we create discrete class labels for annual salary and perform classification as it is more likely to give better results. However, more research is to be done on this part."
   ]
  }
 ],
 "metadata": {
  "kernelspec": {
   "display_name": "Python 3",
   "language": "python",
   "name": "python3"
  },
  "language_info": {
   "codemirror_mode": {
    "name": "ipython",
    "version": 3
   },
   "file_extension": ".py",
   "mimetype": "text/x-python",
   "name": "python",
   "nbconvert_exporter": "python",
   "pygments_lexer": "ipython3",
   "version": "3.8.8"
  }
 },
 "nbformat": 4,
 "nbformat_minor": 5
}
